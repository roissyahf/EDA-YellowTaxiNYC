{
 "cells": [
  {
   "cell_type": "markdown",
   "id": "204baae7",
   "metadata": {},
   "source": [
    "# Preparation"
   ]
  },
  {
   "cell_type": "code",
   "execution_count": 1,
   "id": "06b6374c",
   "metadata": {},
   "outputs": [],
   "source": [
    "#import required packages\n",
    "import numpy as np\n",
    "import pandas as pd\n",
    "\n",
    "import matplotlib.pyplot as plt\n",
    "%matplotlib inline\n",
    "import seaborn as sns\n",
    "sns.set(context=\"notebook\", palette=\"Spectral\", style = 'darkgrid' ,font_scale = 1.5, color_codes=True)\n",
    "\n",
    "import warnings\n",
    "warnings.filterwarnings('ignore')\n",
    "\n",
    "import math"
   ]
  },
  {
   "cell_type": "code",
   "execution_count": 2,
   "id": "0db0e1bf",
   "metadata": {},
   "outputs": [
    {
     "data": {
      "text/html": [
       "<div>\n",
       "<style scoped>\n",
       "    .dataframe tbody tr th:only-of-type {\n",
       "        vertical-align: middle;\n",
       "    }\n",
       "\n",
       "    .dataframe tbody tr th {\n",
       "        vertical-align: top;\n",
       "    }\n",
       "\n",
       "    .dataframe thead th {\n",
       "        text-align: right;\n",
       "    }\n",
       "</style>\n",
       "<table border=\"1\" class=\"dataframe\">\n",
       "  <thead>\n",
       "    <tr style=\"text-align: right;\">\n",
       "      <th></th>\n",
       "      <th>VendorID</th>\n",
       "      <th>tpep_pickup_datetime</th>\n",
       "      <th>tpep_dropoff_datetime</th>\n",
       "      <th>passenger_count</th>\n",
       "      <th>trip_distance</th>\n",
       "      <th>RatecodeID</th>\n",
       "      <th>store_and_fwd_flag</th>\n",
       "      <th>PULocationID</th>\n",
       "      <th>DOLocationID</th>\n",
       "      <th>payment_type</th>\n",
       "      <th>fare_amount</th>\n",
       "      <th>extra</th>\n",
       "      <th>mta_tax</th>\n",
       "      <th>tip_amount</th>\n",
       "      <th>tolls_amount</th>\n",
       "      <th>improvement_surcharge</th>\n",
       "      <th>total_amount</th>\n",
       "      <th>congestion_surcharge</th>\n",
       "      <th>airport_fee</th>\n",
       "    </tr>\n",
       "  </thead>\n",
       "  <tbody>\n",
       "    <tr>\n",
       "      <th>0</th>\n",
       "      <td>2</td>\n",
       "      <td>2022-04-01 0:04:55</td>\n",
       "      <td>2022-04-01 0:14:38</td>\n",
       "      <td>1.0</td>\n",
       "      <td>2.02</td>\n",
       "      <td>1.0</td>\n",
       "      <td>N</td>\n",
       "      <td>114</td>\n",
       "      <td>170</td>\n",
       "      <td>3</td>\n",
       "      <td>9.0</td>\n",
       "      <td>0.50</td>\n",
       "      <td>0.5</td>\n",
       "      <td>0.00</td>\n",
       "      <td>0.0</td>\n",
       "      <td>0.3</td>\n",
       "      <td>12.80</td>\n",
       "      <td>2.5</td>\n",
       "      <td>0.00</td>\n",
       "    </tr>\n",
       "    <tr>\n",
       "      <th>1</th>\n",
       "      <td>1</td>\n",
       "      <td>2022-04-01 6:02:11</td>\n",
       "      <td>2022-04-01 6:21:36</td>\n",
       "      <td>1.0</td>\n",
       "      <td>5.70</td>\n",
       "      <td>1.0</td>\n",
       "      <td>N</td>\n",
       "      <td>132</td>\n",
       "      <td>216</td>\n",
       "      <td>3</td>\n",
       "      <td>19.0</td>\n",
       "      <td>1.25</td>\n",
       "      <td>0.5</td>\n",
       "      <td>0.00</td>\n",
       "      <td>0.0</td>\n",
       "      <td>0.3</td>\n",
       "      <td>21.05</td>\n",
       "      <td>0.0</td>\n",
       "      <td>1.25</td>\n",
       "    </tr>\n",
       "    <tr>\n",
       "      <th>2</th>\n",
       "      <td>2</td>\n",
       "      <td>2022-04-01 8:45:59</td>\n",
       "      <td>2022-04-01 9:04:37</td>\n",
       "      <td>1.0</td>\n",
       "      <td>3.16</td>\n",
       "      <td>1.0</td>\n",
       "      <td>N</td>\n",
       "      <td>211</td>\n",
       "      <td>162</td>\n",
       "      <td>2</td>\n",
       "      <td>14.5</td>\n",
       "      <td>0.00</td>\n",
       "      <td>0.5</td>\n",
       "      <td>3.56</td>\n",
       "      <td>0.0</td>\n",
       "      <td>0.3</td>\n",
       "      <td>21.36</td>\n",
       "      <td>2.5</td>\n",
       "      <td>0.00</td>\n",
       "    </tr>\n",
       "    <tr>\n",
       "      <th>3</th>\n",
       "      <td>2</td>\n",
       "      <td>2022-04-01 9:25:53</td>\n",
       "      <td>2022-04-01 9:30:41</td>\n",
       "      <td>1.0</td>\n",
       "      <td>0.69</td>\n",
       "      <td>1.0</td>\n",
       "      <td>N</td>\n",
       "      <td>237</td>\n",
       "      <td>236</td>\n",
       "      <td>2</td>\n",
       "      <td>5.5</td>\n",
       "      <td>0.00</td>\n",
       "      <td>0.5</td>\n",
       "      <td>0.80</td>\n",
       "      <td>0.0</td>\n",
       "      <td>0.3</td>\n",
       "      <td>9.60</td>\n",
       "      <td>2.5</td>\n",
       "      <td>0.00</td>\n",
       "    </tr>\n",
       "    <tr>\n",
       "      <th>4</th>\n",
       "      <td>2</td>\n",
       "      <td>2022-04-01 12:30:37</td>\n",
       "      <td>2022-04-01 12:42:09</td>\n",
       "      <td>1.0</td>\n",
       "      <td>2.20</td>\n",
       "      <td>1.0</td>\n",
       "      <td>N</td>\n",
       "      <td>238</td>\n",
       "      <td>237</td>\n",
       "      <td>2</td>\n",
       "      <td>10.0</td>\n",
       "      <td>0.00</td>\n",
       "      <td>0.5</td>\n",
       "      <td>3.33</td>\n",
       "      <td>0.0</td>\n",
       "      <td>0.3</td>\n",
       "      <td>16.63</td>\n",
       "      <td>2.5</td>\n",
       "      <td>0.00</td>\n",
       "    </tr>\n",
       "  </tbody>\n",
       "</table>\n",
       "</div>"
      ],
      "text/plain": [
       "   VendorID tpep_pickup_datetime tpep_dropoff_datetime  passenger_count  \\\n",
       "0         2   2022-04-01 0:04:55    2022-04-01 0:14:38              1.0   \n",
       "1         1   2022-04-01 6:02:11    2022-04-01 6:21:36              1.0   \n",
       "2         2   2022-04-01 8:45:59    2022-04-01 9:04:37              1.0   \n",
       "3         2   2022-04-01 9:25:53    2022-04-01 9:30:41              1.0   \n",
       "4         2  2022-04-01 12:30:37   2022-04-01 12:42:09              1.0   \n",
       "\n",
       "   trip_distance  RatecodeID store_and_fwd_flag  PULocationID  DOLocationID  \\\n",
       "0           2.02         1.0                  N           114           170   \n",
       "1           5.70         1.0                  N           132           216   \n",
       "2           3.16         1.0                  N           211           162   \n",
       "3           0.69         1.0                  N           237           236   \n",
       "4           2.20         1.0                  N           238           237   \n",
       "\n",
       "   payment_type  fare_amount  extra  mta_tax  tip_amount  tolls_amount  \\\n",
       "0             3          9.0   0.50      0.5        0.00           0.0   \n",
       "1             3         19.0   1.25      0.5        0.00           0.0   \n",
       "2             2         14.5   0.00      0.5        3.56           0.0   \n",
       "3             2          5.5   0.00      0.5        0.80           0.0   \n",
       "4             2         10.0   0.00      0.5        3.33           0.0   \n",
       "\n",
       "   improvement_surcharge  total_amount  congestion_surcharge  airport_fee  \n",
       "0                    0.3         12.80                   2.5         0.00  \n",
       "1                    0.3         21.05                   0.0         1.25  \n",
       "2                    0.3         21.36                   2.5         0.00  \n",
       "3                    0.3          9.60                   2.5         0.00  \n",
       "4                    0.3         16.63                   2.5         0.00  "
      ]
     },
     "execution_count": 2,
     "metadata": {},
     "output_type": "execute_result"
    }
   ],
   "source": [
    "df = pd.read_csv(\"dataset/RAW_yellow_tlc_apr2022.csv\", sep = ';')\n",
    "df.head()"
   ]
  },
  {
   "cell_type": "code",
   "execution_count": 4,
   "id": "77172ee6",
   "metadata": {},
   "outputs": [
    {
     "data": {
      "text/plain": [
       "(1000, 19)"
      ]
     },
     "execution_count": 4,
     "metadata": {},
     "output_type": "execute_result"
    }
   ],
   "source": [
    "df.shape"
   ]
  },
  {
   "cell_type": "code",
   "execution_count": 5,
   "id": "76353604",
   "metadata": {},
   "outputs": [
    {
     "name": "stdout",
     "output_type": "stream",
     "text": [
      "<class 'pandas.core.frame.DataFrame'>\n",
      "RangeIndex: 1000 entries, 0 to 999\n",
      "Data columns (total 19 columns):\n",
      " #   Column                 Non-Null Count  Dtype  \n",
      "---  ------                 --------------  -----  \n",
      " 0   VendorID               1000 non-null   int64  \n",
      " 1   tpep_pickup_datetime   1000 non-null   object \n",
      " 2   tpep_dropoff_datetime  1000 non-null   object \n",
      " 3   passenger_count        977 non-null    float64\n",
      " 4   trip_distance          1000 non-null   float64\n",
      " 5   RatecodeID             977 non-null    float64\n",
      " 6   store_and_fwd_flag     977 non-null    object \n",
      " 7   PULocationID           1000 non-null   int64  \n",
      " 8   DOLocationID           1000 non-null   int64  \n",
      " 9   payment_type           1000 non-null   int64  \n",
      " 10  fare_amount            1000 non-null   float64\n",
      " 11  extra                  1000 non-null   float64\n",
      " 12  mta_tax                1000 non-null   float64\n",
      " 13  tip_amount             1000 non-null   float64\n",
      " 14  tolls_amount           1000 non-null   float64\n",
      " 15  improvement_surcharge  1000 non-null   float64\n",
      " 16  total_amount           1000 non-null   float64\n",
      " 17  congestion_surcharge   977 non-null    float64\n",
      " 18  airport_fee            977 non-null    float64\n",
      "dtypes: float64(12), int64(4), object(3)\n",
      "memory usage: 148.6+ KB\n"
     ]
    }
   ],
   "source": [
    "df.info()"
   ]
  },
  {
   "cell_type": "code",
   "execution_count": 6,
   "id": "16f32637",
   "metadata": {
    "scrolled": true
   },
   "outputs": [
    {
     "data": {
      "text/html": [
       "<div>\n",
       "<style scoped>\n",
       "    .dataframe tbody tr th:only-of-type {\n",
       "        vertical-align: middle;\n",
       "    }\n",
       "\n",
       "    .dataframe tbody tr th {\n",
       "        vertical-align: top;\n",
       "    }\n",
       "\n",
       "    .dataframe thead th {\n",
       "        text-align: right;\n",
       "    }\n",
       "</style>\n",
       "<table border=\"1\" class=\"dataframe\">\n",
       "  <thead>\n",
       "    <tr style=\"text-align: right;\">\n",
       "      <th></th>\n",
       "      <th>VendorID</th>\n",
       "      <th>passenger_count</th>\n",
       "      <th>trip_distance</th>\n",
       "      <th>RatecodeID</th>\n",
       "      <th>PULocationID</th>\n",
       "      <th>DOLocationID</th>\n",
       "      <th>payment_type</th>\n",
       "      <th>fare_amount</th>\n",
       "      <th>extra</th>\n",
       "      <th>mta_tax</th>\n",
       "      <th>tip_amount</th>\n",
       "      <th>tolls_amount</th>\n",
       "      <th>improvement_surcharge</th>\n",
       "      <th>total_amount</th>\n",
       "      <th>congestion_surcharge</th>\n",
       "      <th>airport_fee</th>\n",
       "    </tr>\n",
       "  </thead>\n",
       "  <tbody>\n",
       "    <tr>\n",
       "      <th>count</th>\n",
       "      <td>1000.000000</td>\n",
       "      <td>977.000000</td>\n",
       "      <td>1000.000000</td>\n",
       "      <td>977.000000</td>\n",
       "      <td>1000.000000</td>\n",
       "      <td>1000.000000</td>\n",
       "      <td>1000.000000</td>\n",
       "      <td>1000.000000</td>\n",
       "      <td>1000.000000</td>\n",
       "      <td>1000.000000</td>\n",
       "      <td>1000.00000</td>\n",
       "      <td>1000.000000</td>\n",
       "      <td>1000.000000</td>\n",
       "      <td>1000.000000</td>\n",
       "      <td>977.000000</td>\n",
       "      <td>977.000000</td>\n",
       "    </tr>\n",
       "    <tr>\n",
       "      <th>mean</th>\n",
       "      <td>1.728000</td>\n",
       "      <td>1.441146</td>\n",
       "      <td>3.386850</td>\n",
       "      <td>1.076766</td>\n",
       "      <td>163.153000</td>\n",
       "      <td>163.181000</td>\n",
       "      <td>2.200000</td>\n",
       "      <td>13.950830</td>\n",
       "      <td>1.016500</td>\n",
       "      <td>0.487000</td>\n",
       "      <td>2.69886</td>\n",
       "      <td>0.576750</td>\n",
       "      <td>0.294600</td>\n",
       "      <td>20.785290</td>\n",
       "      <td>2.328557</td>\n",
       "      <td>0.088280</td>\n",
       "    </tr>\n",
       "    <tr>\n",
       "      <th>std</th>\n",
       "      <td>0.445213</td>\n",
       "      <td>1.009619</td>\n",
       "      <td>4.281788</td>\n",
       "      <td>0.418872</td>\n",
       "      <td>64.811728</td>\n",
       "      <td>69.964257</td>\n",
       "      <td>0.496232</td>\n",
       "      <td>13.041739</td>\n",
       "      <td>1.241327</td>\n",
       "      <td>0.101692</td>\n",
       "      <td>2.84984</td>\n",
       "      <td>2.014599</td>\n",
       "      <td>0.056693</td>\n",
       "      <td>16.628319</td>\n",
       "      <td>0.680927</td>\n",
       "      <td>0.335064</td>\n",
       "    </tr>\n",
       "    <tr>\n",
       "      <th>min</th>\n",
       "      <td>1.000000</td>\n",
       "      <td>0.000000</td>\n",
       "      <td>0.000000</td>\n",
       "      <td>1.000000</td>\n",
       "      <td>1.000000</td>\n",
       "      <td>1.000000</td>\n",
       "      <td>1.000000</td>\n",
       "      <td>-53.000000</td>\n",
       "      <td>-0.500000</td>\n",
       "      <td>-0.500000</td>\n",
       "      <td>0.00000</td>\n",
       "      <td>-6.550000</td>\n",
       "      <td>-0.300000</td>\n",
       "      <td>-55.050000</td>\n",
       "      <td>-2.500000</td>\n",
       "      <td>-1.250000</td>\n",
       "    </tr>\n",
       "    <tr>\n",
       "      <th>25%</th>\n",
       "      <td>1.000000</td>\n",
       "      <td>1.000000</td>\n",
       "      <td>1.100000</td>\n",
       "      <td>1.000000</td>\n",
       "      <td>125.000000</td>\n",
       "      <td>113.000000</td>\n",
       "      <td>2.000000</td>\n",
       "      <td>6.500000</td>\n",
       "      <td>0.000000</td>\n",
       "      <td>0.500000</td>\n",
       "      <td>1.00000</td>\n",
       "      <td>0.000000</td>\n",
       "      <td>0.300000</td>\n",
       "      <td>11.800000</td>\n",
       "      <td>2.500000</td>\n",
       "      <td>0.000000</td>\n",
       "    </tr>\n",
       "    <tr>\n",
       "      <th>50%</th>\n",
       "      <td>2.000000</td>\n",
       "      <td>1.000000</td>\n",
       "      <td>1.810000</td>\n",
       "      <td>1.000000</td>\n",
       "      <td>161.000000</td>\n",
       "      <td>162.000000</td>\n",
       "      <td>2.000000</td>\n",
       "      <td>10.000000</td>\n",
       "      <td>0.500000</td>\n",
       "      <td>0.500000</td>\n",
       "      <td>2.16000</td>\n",
       "      <td>0.000000</td>\n",
       "      <td>0.300000</td>\n",
       "      <td>15.800000</td>\n",
       "      <td>2.500000</td>\n",
       "      <td>0.000000</td>\n",
       "    </tr>\n",
       "    <tr>\n",
       "      <th>75%</th>\n",
       "      <td>2.000000</td>\n",
       "      <td>2.000000</td>\n",
       "      <td>3.672500</td>\n",
       "      <td>1.000000</td>\n",
       "      <td>234.000000</td>\n",
       "      <td>234.000000</td>\n",
       "      <td>2.000000</td>\n",
       "      <td>16.000000</td>\n",
       "      <td>2.500000</td>\n",
       "      <td>0.500000</td>\n",
       "      <td>3.45000</td>\n",
       "      <td>0.000000</td>\n",
       "      <td>0.300000</td>\n",
       "      <td>22.620000</td>\n",
       "      <td>2.500000</td>\n",
       "      <td>0.000000</td>\n",
       "    </tr>\n",
       "    <tr>\n",
       "      <th>max</th>\n",
       "      <td>2.000000</td>\n",
       "      <td>6.000000</td>\n",
       "      <td>48.500000</td>\n",
       "      <td>5.000000</td>\n",
       "      <td>264.000000</td>\n",
       "      <td>265.000000</td>\n",
       "      <td>5.000000</td>\n",
       "      <td>125.500000</td>\n",
       "      <td>8.250000</td>\n",
       "      <td>0.500000</td>\n",
       "      <td>20.41000</td>\n",
       "      <td>19.250000</td>\n",
       "      <td>0.300000</td>\n",
       "      <td>149.600000</td>\n",
       "      <td>2.500000</td>\n",
       "      <td>1.250000</td>\n",
       "    </tr>\n",
       "  </tbody>\n",
       "</table>\n",
       "</div>"
      ],
      "text/plain": [
       "          VendorID  passenger_count  trip_distance  RatecodeID  PULocationID  \\\n",
       "count  1000.000000       977.000000    1000.000000  977.000000   1000.000000   \n",
       "mean      1.728000         1.441146       3.386850    1.076766    163.153000   \n",
       "std       0.445213         1.009619       4.281788    0.418872     64.811728   \n",
       "min       1.000000         0.000000       0.000000    1.000000      1.000000   \n",
       "25%       1.000000         1.000000       1.100000    1.000000    125.000000   \n",
       "50%       2.000000         1.000000       1.810000    1.000000    161.000000   \n",
       "75%       2.000000         2.000000       3.672500    1.000000    234.000000   \n",
       "max       2.000000         6.000000      48.500000    5.000000    264.000000   \n",
       "\n",
       "       DOLocationID  payment_type  fare_amount        extra      mta_tax  \\\n",
       "count   1000.000000   1000.000000  1000.000000  1000.000000  1000.000000   \n",
       "mean     163.181000      2.200000    13.950830     1.016500     0.487000   \n",
       "std       69.964257      0.496232    13.041739     1.241327     0.101692   \n",
       "min        1.000000      1.000000   -53.000000    -0.500000    -0.500000   \n",
       "25%      113.000000      2.000000     6.500000     0.000000     0.500000   \n",
       "50%      162.000000      2.000000    10.000000     0.500000     0.500000   \n",
       "75%      234.000000      2.000000    16.000000     2.500000     0.500000   \n",
       "max      265.000000      5.000000   125.500000     8.250000     0.500000   \n",
       "\n",
       "       tip_amount  tolls_amount  improvement_surcharge  total_amount  \\\n",
       "count  1000.00000   1000.000000            1000.000000   1000.000000   \n",
       "mean      2.69886      0.576750               0.294600     20.785290   \n",
       "std       2.84984      2.014599               0.056693     16.628319   \n",
       "min       0.00000     -6.550000              -0.300000    -55.050000   \n",
       "25%       1.00000      0.000000               0.300000     11.800000   \n",
       "50%       2.16000      0.000000               0.300000     15.800000   \n",
       "75%       3.45000      0.000000               0.300000     22.620000   \n",
       "max      20.41000     19.250000               0.300000    149.600000   \n",
       "\n",
       "       congestion_surcharge  airport_fee  \n",
       "count            977.000000   977.000000  \n",
       "mean               2.328557     0.088280  \n",
       "std                0.680927     0.335064  \n",
       "min               -2.500000    -1.250000  \n",
       "25%                2.500000     0.000000  \n",
       "50%                2.500000     0.000000  \n",
       "75%                2.500000     0.000000  \n",
       "max                2.500000     1.250000  "
      ]
     },
     "execution_count": 6,
     "metadata": {},
     "output_type": "execute_result"
    }
   ],
   "source": [
    "df.describe()"
   ]
  },
  {
   "cell_type": "markdown",
   "id": "8c34eac4",
   "metadata": {},
   "source": [
    "From above statistics descriptive summary, we can conclude that:\n",
    "\n",
    "    1. Some variables: 'passenger_count', 'RatecodeID', 'congestion_surcharge', and 'airport_fee' are missing 23 values\n",
    "    \n",
    "    2. Those 4 variables are numerical, it would be better if we fill those missing value with median instead of using mean, because they're not normally distributed. Not only that, the other reason is \"mean get easily influenced by extremely large value (outlier)\"."
   ]
  },
  {
   "cell_type": "markdown",
   "id": "6b12f6bd",
   "metadata": {},
   "source": [
    "### Numerical variables distribution (to prove that my above statement is true)"
   ]
  },
  {
   "cell_type": "code",
   "execution_count": 7,
   "id": "ebff200e",
   "metadata": {},
   "outputs": [
    {
     "data": {
      "text/plain": [
       "<seaborn.axisgrid.FacetGrid at 0x228ddfb73d0>"
      ]
     },
     "execution_count": 7,
     "metadata": {},
     "output_type": "execute_result"
    },
    {
     "data": {
      "image/png": "[encoded data removed]",
      "text/plain": [
       "<Figure size 360x360 with 1 Axes>"
      ]
     },
     "metadata": {},
     "output_type": "display_data"
    }
   ],
   "source": [
    "sns.displot(df, x='passenger_count', kind='kde')"
   ]
  },
  {
   "cell_type": "code",
   "execution_count": 8,
   "id": "f03cee65",
   "metadata": {},
   "outputs": [
    {
     "data": {
      "text/plain": [
       "<seaborn.axisgrid.FacetGrid at 0x228ddfb68c0>"
      ]
     },
     "execution_count": 8,
     "metadata": {},
     "output_type": "execute_result"
    },
    {
     "data": {
      "image/png": "[encoded data removed]",
      "text/plain": [
       "<Figure size 360x360 with 1 Axes>"
      ]
     },
     "metadata": {},
     "output_type": "display_data"
    }
   ],
   "source": [
    "sns.displot(df, x='RatecodeID', kind='kde')"
   ]
  },
  {
   "cell_type": "code",
   "execution_count": 9,
   "id": "2e572f80",
   "metadata": {},
   "outputs": [
    {
     "data": {
      "text/plain": [
       "<seaborn.axisgrid.FacetGrid at 0x228e21ea320>"
      ]
     },
     "execution_count": 9,
     "metadata": {},
     "output_type": "execute_result"
    },
    {
     "data": {
      "image/png": "[encoded data removed]",
      "text/plain": [
       "<Figure size 360x360 with 1 Axes>"
      ]
     },
     "metadata": {},
     "output_type": "display_data"
    }
   ],
   "source": [
    "#congestion_surcharge distribution\n",
    "sns.displot(df['congestion_surcharge'], kind='kde')"
   ]
  },
  {
   "cell_type": "code",
   "execution_count": 10,
   "id": "e188574a",
   "metadata": {},
   "outputs": [
    {
     "data": {
      "text/plain": [
       "<seaborn.axisgrid.FacetGrid at 0x228e21ea110>"
      ]
     },
     "execution_count": 10,
     "metadata": {},
     "output_type": "execute_result"
    },
    {
     "data": {
      "image/png": "[encoded data removed]",
      "text/plain": [
       "<Figure size 360x360 with 1 Axes>"
      ]
     },
     "metadata": {},
     "output_type": "display_data"
    }
   ],
   "source": [
    "sns.displot(df['airport_fee'], kind='kde')"
   ]
  },
  {
   "cell_type": "markdown",
   "id": "d497fffc",
   "metadata": {},
   "source": [
    "# Handling missing value"
   ]
  },
  {
   "cell_type": "code",
   "execution_count": 3,
   "id": "e38bf9da",
   "metadata": {},
   "outputs": [
    {
     "data": {
      "text/plain": [
       "0"
      ]
     },
     "execution_count": 3,
     "metadata": {},
     "output_type": "execute_result"
    }
   ],
   "source": [
    "#check duplicate row\n",
    "df.duplicated().sum()"
   ]
  },
  {
   "cell_type": "code",
   "execution_count": 4,
   "id": "da8e4713",
   "metadata": {},
   "outputs": [
    {
     "data": {
      "text/plain": [
       "VendorID                  0\n",
       "tpep_pickup_datetime      0\n",
       "tpep_dropoff_datetime     0\n",
       "passenger_count          23\n",
       "trip_distance             0\n",
       "RatecodeID               23\n",
       "store_and_fwd_flag       23\n",
       "PULocationID              0\n",
       "DOLocationID              0\n",
       "payment_type              0\n",
       "fare_amount               0\n",
       "extra                     0\n",
       "mta_tax                   0\n",
       "tip_amount                0\n",
       "tolls_amount              0\n",
       "improvement_surcharge     0\n",
       "total_amount              0\n",
       "congestion_surcharge     23\n",
       "airport_fee              23\n",
       "dtype: int64"
      ]
     },
     "execution_count": 4,
     "metadata": {},
     "output_type": "execute_result"
    }
   ],
   "source": [
    "df.isnull().sum()"
   ]
  },
  {
   "cell_type": "code",
   "execution_count": 13,
   "id": "7310ec9a",
   "metadata": {},
   "outputs": [
    {
     "name": "stdout",
     "output_type": "stream",
     "text": [
      "[ 1.  3.  2.  4.  0.  5.  6. nan]\n",
      "[ 1.  2.  5.  3.  4. nan]\n",
      "[ 2.5  0.  -2.5  nan]\n",
      "[ 0.    1.25 -1.25   nan]\n"
     ]
    }
   ],
   "source": [
    "#check unique value for variables that contain missing value\n",
    "\n",
    "unique_passenger = df['passenger_count'].unique()\n",
    "unique_ratecode = df['RatecodeID'].unique()\n",
    "unique_congestion = df['congestion_surcharge'].unique()\n",
    "unique_fee = df['airport_fee'].unique()\n",
    "\n",
    "print(unique_passenger)\n",
    "print(unique_ratecode)\n",
    "print(unique_congestion)\n",
    "print(unique_fee)"
   ]
  },
  {
   "cell_type": "code",
   "execution_count": 14,
   "id": "adc42b23",
   "metadata": {},
   "outputs": [
    {
     "name": "stdout",
     "output_type": "stream",
     "text": [
      "1.0\n",
      "1.0\n",
      "2.5\n",
      "0.0\n",
      "0    N\n",
      "Name: store_and_fwd_flag, dtype: object\n"
     ]
    }
   ],
   "source": [
    "#calculate median and mode of varibles with missing values\n",
    "\n",
    "median_passenger = df['passenger_count'].median()\n",
    "median_rate = df['RatecodeID'].median()\n",
    "median_congestion = df['congestion_surcharge'].median()\n",
    "median_airport = df['airport_fee'].median()\n",
    "mode_store = df['store_and_fwd_flag'].mode()\n",
    "\n",
    "print(median_passenger)\n",
    "print(median_rate)\n",
    "print(median_congestion)\n",
    "print(median_airport)\n",
    "print(mode_store)"
   ]
  },
  {
   "cell_type": "code",
   "execution_count": 5,
   "id": "321ce93f",
   "metadata": {},
   "outputs": [],
   "source": [
    "#filling missing value with median\n",
    "clean_df = df.copy()\n",
    "#in passenger_count\n",
    "clean_df['passenger_count'].fillna(math.floor(clean_df['passenger_count'].median()), inplace=True)\n",
    "#in RatecodeID\n",
    "clean_df['RatecodeID'].fillna(math.floor(clean_df['RatecodeID'].median()), inplace=True)\n",
    "#in congestion_surcharge\n",
    "clean_df['congestion_surcharge'].fillna(math.floor(clean_df['congestion_surcharge'].median()), inplace=True)\n",
    "#in airport_fee\n",
    "clean_df['airport_fee'].fillna(math.floor(clean_df['airport_fee'].median()), inplace=True)\n",
    "\n",
    "#filling missing value in store_and_fwd_flag with mode\n",
    "clean_df['store_and_fwd_flag'].fillna(clean_df['store_and_fwd_flag'].mode()[0], inplace=True)"
   ]
  },
  {
   "cell_type": "code",
   "execution_count": 6,
   "id": "c0a9d319",
   "metadata": {},
   "outputs": [
    {
     "data": {
      "text/plain": [
       "VendorID                 0\n",
       "tpep_pickup_datetime     0\n",
       "tpep_dropoff_datetime    0\n",
       "passenger_count          0\n",
       "trip_distance            0\n",
       "RatecodeID               0\n",
       "store_and_fwd_flag       0\n",
       "PULocationID             0\n",
       "DOLocationID             0\n",
       "payment_type             0\n",
       "fare_amount              0\n",
       "extra                    0\n",
       "mta_tax                  0\n",
       "tip_amount               0\n",
       "tolls_amount             0\n",
       "improvement_surcharge    0\n",
       "total_amount             0\n",
       "congestion_surcharge     0\n",
       "airport_fee              0\n",
       "dtype: int64"
      ]
     },
     "execution_count": 6,
     "metadata": {},
     "output_type": "execute_result"
    }
   ],
   "source": [
    "clean_df.isnull().sum()"
   ]
  },
  {
   "cell_type": "markdown",
   "id": "a0f62b9a",
   "metadata": {},
   "source": [
    "# Data Understanding"
   ]
  },
  {
   "cell_type": "markdown",
   "id": "1cb1eb43",
   "metadata": {},
   "source": [
    "### Zero Passenger"
   ]
  },
  {
   "cell_type": "code",
   "execution_count": 18,
   "id": "395e7f9b",
   "metadata": {},
   "outputs": [
    {
     "name": "stdout",
     "output_type": "stream",
     "text": [
      "Count of zero passenger is  25\n"
     ]
    }
   ],
   "source": [
    "#it was strange if a taxi pick up zero passenger but still receive money\n",
    "#what's the reason behind this? what should i do?\n",
    "print(\"Count of zero passenger is \",\n",
    "      clean_df[clean_df['passenger_count'] == 0.0]['passenger_count'].count())"
   ]
  },
  {
   "cell_type": "markdown",
   "id": "452a5536",
   "metadata": {},
   "source": [
    "### Note"
   ]
  },
  {
   "cell_type": "markdown",
   "id": "1059e14b",
   "metadata": {},
   "source": [
    "    1. In congestion_surcharge zero value is still possible, which indicates there's no surcharge to be paid. It also works in airport_fee, zero value implies that driver didn't pick up passenger from airport or viceversa\n",
    "    \n",
    "    2. Remind that, zero value is totally different with nan (missing value)\n",
    "    \n",
    "    3. Negative value in congestion_surcharge and airport_fee indicate that company bear it"
   ]
  },
  {
   "cell_type": "markdown",
   "id": "2cbc6738",
   "metadata": {},
   "source": [
    "## Save changes into new csv file"
   ]
  },
  {
   "cell_type": "code",
   "execution_count": 7,
   "id": "0babdc4a",
   "metadata": {},
   "outputs": [],
   "source": [
    "clean_df.to_csv('CLEAN_yellow_tlc_apr2022.csv')"
   ]
  },
  {
   "cell_type": "code",
   "execution_count": 8,
   "id": "7e88d7db",
   "metadata": {
    "scrolled": true
   },
   "outputs": [
    {
     "data": {
      "text/html": [
       "<div>\n",
       "<style scoped>\n",
       "    .dataframe tbody tr th:only-of-type {\n",
       "        vertical-align: middle;\n",
       "    }\n",
       "\n",
       "    .dataframe tbody tr th {\n",
       "        vertical-align: top;\n",
       "    }\n",
       "\n",
       "    .dataframe thead th {\n",
       "        text-align: right;\n",
       "    }\n",
       "</style>\n",
       "<table border=\"1\" class=\"dataframe\">\n",
       "  <thead>\n",
       "    <tr style=\"text-align: right;\">\n",
       "      <th></th>\n",
       "      <th>Unnamed: 0</th>\n",
       "      <th>VendorID</th>\n",
       "      <th>tpep_pickup_datetime</th>\n",
       "      <th>tpep_dropoff_datetime</th>\n",
       "      <th>passenger_count</th>\n",
       "      <th>trip_distance</th>\n",
       "      <th>RatecodeID</th>\n",
       "      <th>store_and_fwd_flag</th>\n",
       "      <th>PULocationID</th>\n",
       "      <th>DOLocationID</th>\n",
       "      <th>payment_type</th>\n",
       "      <th>fare_amount</th>\n",
       "      <th>extra</th>\n",
       "      <th>mta_tax</th>\n",
       "      <th>tip_amount</th>\n",
       "      <th>tolls_amount</th>\n",
       "      <th>improvement_surcharge</th>\n",
       "      <th>total_amount</th>\n",
       "      <th>congestion_surcharge</th>\n",
       "      <th>airport_fee</th>\n",
       "    </tr>\n",
       "  </thead>\n",
       "  <tbody>\n",
       "    <tr>\n",
       "      <th>0</th>\n",
       "      <td>0</td>\n",
       "      <td>2</td>\n",
       "      <td>2022-04-01 0:04:55</td>\n",
       "      <td>2022-04-01 0:14:38</td>\n",
       "      <td>1.0</td>\n",
       "      <td>2.02</td>\n",
       "      <td>1.0</td>\n",
       "      <td>N</td>\n",
       "      <td>114</td>\n",
       "      <td>170</td>\n",
       "      <td>3</td>\n",
       "      <td>9.0</td>\n",
       "      <td>0.50</td>\n",
       "      <td>0.5</td>\n",
       "      <td>0.00</td>\n",
       "      <td>0.0</td>\n",
       "      <td>0.3</td>\n",
       "      <td>12.80</td>\n",
       "      <td>2.5</td>\n",
       "      <td>0.00</td>\n",
       "    </tr>\n",
       "    <tr>\n",
       "      <th>1</th>\n",
       "      <td>1</td>\n",
       "      <td>1</td>\n",
       "      <td>2022-04-01 6:02:11</td>\n",
       "      <td>2022-04-01 6:21:36</td>\n",
       "      <td>1.0</td>\n",
       "      <td>5.70</td>\n",
       "      <td>1.0</td>\n",
       "      <td>N</td>\n",
       "      <td>132</td>\n",
       "      <td>216</td>\n",
       "      <td>3</td>\n",
       "      <td>19.0</td>\n",
       "      <td>1.25</td>\n",
       "      <td>0.5</td>\n",
       "      <td>0.00</td>\n",
       "      <td>0.0</td>\n",
       "      <td>0.3</td>\n",
       "      <td>21.05</td>\n",
       "      <td>0.0</td>\n",
       "      <td>1.25</td>\n",
       "    </tr>\n",
       "    <tr>\n",
       "      <th>2</th>\n",
       "      <td>2</td>\n",
       "      <td>2</td>\n",
       "      <td>2022-04-01 8:45:59</td>\n",
       "      <td>2022-04-01 9:04:37</td>\n",
       "      <td>1.0</td>\n",
       "      <td>3.16</td>\n",
       "      <td>1.0</td>\n",
       "      <td>N</td>\n",
       "      <td>211</td>\n",
       "      <td>162</td>\n",
       "      <td>2</td>\n",
       "      <td>14.5</td>\n",
       "      <td>0.00</td>\n",
       "      <td>0.5</td>\n",
       "      <td>3.56</td>\n",
       "      <td>0.0</td>\n",
       "      <td>0.3</td>\n",
       "      <td>21.36</td>\n",
       "      <td>2.5</td>\n",
       "      <td>0.00</td>\n",
       "    </tr>\n",
       "    <tr>\n",
       "      <th>3</th>\n",
       "      <td>3</td>\n",
       "      <td>2</td>\n",
       "      <td>2022-04-01 9:25:53</td>\n",
       "      <td>2022-04-01 9:30:41</td>\n",
       "      <td>1.0</td>\n",
       "      <td>0.69</td>\n",
       "      <td>1.0</td>\n",
       "      <td>N</td>\n",
       "      <td>237</td>\n",
       "      <td>236</td>\n",
       "      <td>2</td>\n",
       "      <td>5.5</td>\n",
       "      <td>0.00</td>\n",
       "      <td>0.5</td>\n",
       "      <td>0.80</td>\n",
       "      <td>0.0</td>\n",
       "      <td>0.3</td>\n",
       "      <td>9.60</td>\n",
       "      <td>2.5</td>\n",
       "      <td>0.00</td>\n",
       "    </tr>\n",
       "    <tr>\n",
       "      <th>4</th>\n",
       "      <td>4</td>\n",
       "      <td>2</td>\n",
       "      <td>2022-04-01 12:30:37</td>\n",
       "      <td>2022-04-01 12:42:09</td>\n",
       "      <td>1.0</td>\n",
       "      <td>2.20</td>\n",
       "      <td>1.0</td>\n",
       "      <td>N</td>\n",
       "      <td>238</td>\n",
       "      <td>237</td>\n",
       "      <td>2</td>\n",
       "      <td>10.0</td>\n",
       "      <td>0.00</td>\n",
       "      <td>0.5</td>\n",
       "      <td>3.33</td>\n",
       "      <td>0.0</td>\n",
       "      <td>0.3</td>\n",
       "      <td>16.63</td>\n",
       "      <td>2.5</td>\n",
       "      <td>0.00</td>\n",
       "    </tr>\n",
       "  </tbody>\n",
       "</table>\n",
       "</div>"
      ],
      "text/plain": [
       "   Unnamed: 0  VendorID tpep_pickup_datetime tpep_dropoff_datetime  \\\n",
       "0           0         2   2022-04-01 0:04:55    2022-04-01 0:14:38   \n",
       "1           1         1   2022-04-01 6:02:11    2022-04-01 6:21:36   \n",
       "2           2         2   2022-04-01 8:45:59    2022-04-01 9:04:37   \n",
       "3           3         2   2022-04-01 9:25:53    2022-04-01 9:30:41   \n",
       "4           4         2  2022-04-01 12:30:37   2022-04-01 12:42:09   \n",
       "\n",
       "   passenger_count  trip_distance  RatecodeID store_and_fwd_flag  \\\n",
       "0              1.0           2.02         1.0                  N   \n",
       "1              1.0           5.70         1.0                  N   \n",
       "2              1.0           3.16         1.0                  N   \n",
       "3              1.0           0.69         1.0                  N   \n",
       "4              1.0           2.20         1.0                  N   \n",
       "\n",
       "   PULocationID  DOLocationID  payment_type  fare_amount  extra  mta_tax  \\\n",
       "0           114           170             3          9.0   0.50      0.5   \n",
       "1           132           216             3         19.0   1.25      0.5   \n",
       "2           211           162             2         14.5   0.00      0.5   \n",
       "3           237           236             2          5.5   0.00      0.5   \n",
       "4           238           237             2         10.0   0.00      0.5   \n",
       "\n",
       "   tip_amount  tolls_amount  improvement_surcharge  total_amount  \\\n",
       "0        0.00           0.0                    0.3         12.80   \n",
       "1        0.00           0.0                    0.3         21.05   \n",
       "2        3.56           0.0                    0.3         21.36   \n",
       "3        0.80           0.0                    0.3          9.60   \n",
       "4        3.33           0.0                    0.3         16.63   \n",
       "\n",
       "   congestion_surcharge  airport_fee  \n",
       "0                   2.5         0.00  \n",
       "1                   0.0         1.25  \n",
       "2                   2.5         0.00  \n",
       "3                   2.5         0.00  \n",
       "4                   2.5         0.00  "
      ]
     },
     "execution_count": 8,
     "metadata": {},
     "output_type": "execute_result"
    }
   ],
   "source": [
    "ready_df = pd.read_csv('dataset/CLEAN_yellow_tlc_apr2022.csv', sep = ',')\n",
    "ready_df.head()"
   ]
  }
 ],
 "metadata": {
  "kernelspec": {
   "display_name": "Python 3 (ipykernel)",
   "language": "python",
   "name": "python3"
  },
  "language_info": {
   "codemirror_mode": {
    "name": "ipython",
    "version": 3
   },
   "file_extension": ".py",
   "mimetype": "text/x-python",
   "name": "python",
   "nbconvert_exporter": "python",
   "pygments_lexer": "ipython3",
   "version": "3.10.5"
  }
 },
 "nbformat": 4,
 "nbformat_minor": 5
}
